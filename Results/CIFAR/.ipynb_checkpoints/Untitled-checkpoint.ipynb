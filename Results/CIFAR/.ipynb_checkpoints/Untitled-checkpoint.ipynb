{
 "cells": [
  {
   "cell_type": "code",
   "execution_count": 12,
   "metadata": {},
   "outputs": [],
   "source": [
    "import pickle\n",
    "import numpy as np\n",
    "import os"
   ]
  },
  {
   "cell_type": "code",
   "execution_count": 47,
   "metadata": {},
   "outputs": [],
   "source": [
    "epses = [0.005,0.01,0.02, 0.05, 0.1, 0.15]\n"
   ]
  },
  {
   "cell_type": "code",
   "execution_count": 52,
   "metadata": {},
   "outputs": [
    {
     "name": "stdout",
     "output_type": "stream",
     "text": [
      "1146\n",
      "1146\n",
      "1146\n",
      "1146\n",
      "1146\n",
      "1146\n",
      "[0]\n"
     ]
    }
   ],
   "source": [
    "length = [0]\n",
    "save=True\n",
    "copy = False\n",
    "for BATCH in epses:\n",
    "    \n",
    "#     name = ('boby_adversary_False_interpolation_block_eps_' + str(BATCH) + \n",
    "#             '_max_eval_3000_n_channels_3_over_over_max_f_1.3_rounding_True_subspace_attack_False_subspace_dimension_None')\n",
    "    \n",
    "#     name = ('boby_adversary_True_interpolation_block_eps_' + str(BATCH) + \n",
    "#             '_max_eval_3000_n_channels_3_over_over_max_f_1.3_rounding_True_subspace_attack_False_subspace_dimension_None')\n",
    "    \n",
    "#     name = ('combi_adversary_False_eps_' + str(BATCH) + \n",
    "#             '_max_eval_3000_max_iters_1_block_size_128_batch_size_64_no_hier_False_subspace_attack_False_subspace_dimension_None')\n",
    "\n",
    "#     name = ('combi_adversary_True_eps_' + str(BATCH) + \n",
    "#             '_max_eval_3000_max_iters_1_block_size_128_batch_size_64_no_hier_False_subspace_attack_False_subspace_dimension_None')\n",
    "    \n",
    "#     name = ('FW_adversary_False_eps_'+str(BATCH)+\n",
    "#             '_max_eval_3000_att_iter_10000_grad_est_batch_size_25_l_r_0.01_delta_0.01_beat1_0.99_sensing_type_gaussian_subspace_attack_False_subspace_dimension_None')\n",
    "\n",
    "#     name = ('FW_adversary_True_eps_'+str(BATCH)+\n",
    "#             '_max_eval_3000_att_iter_10000_grad_est_batch_size_25_l_r_0.01_delta_0.01_beat1_0.99_sensing_type_gaussian_subspace_attack_False_subspace_dimension_None')\n",
    "\n",
    "#     name = ('square_adversary_False_eps_'+str(BATCH)+\n",
    "#             '_max_eval_3000_p_init_0.1_subspace_attack_False_subspace_dimension_None')\n",
    "\n",
    "#     name = ('square_adversary_True_eps_'+str(BATCH)+\n",
    "#             '_max_eval_3000_p_init_0.1_subspace_attack_False_subspace_dimension_None')\n",
    "\n",
    "    \n",
    "    with open(name+'.txt', \"rb\") as fp:\n",
    "        array = pickle.load(fp)\n",
    "        print(len(array))\n",
    "        \n",
    "    if copy:\n",
    "\n",
    "        if not os.path.isfile(name+'_copy.txt'):\n",
    "            print('Save Copy')\n",
    "            with open(name + '_copy.txt', \"wb\") as fp:\n",
    "                pickle.dump(array, fp)\n",
    "\n",
    "        if save:\n",
    "\n",
    "            with open(name+'_copy.txt', \"rb\") as fp:\n",
    "                array = pickle.load(fp)\n",
    "                print(len(array))\n",
    "\n",
    "            length.append(len(array))\n",
    "\n",
    "            interval = np.arange(length[-2], length[-1])\n",
    "            short_array=[]\n",
    "            for i in interval:\n",
    "                short_array.append(array[i])\n",
    "\n",
    "            if os.path.isfile(name+'_copy.txt'):\n",
    "                print('Save short', len(short_array))\n",
    "                with open(name + '.txt', \"wb\") as fp:\n",
    "                    pickle.dump(short_array, fp)\n",
    "\n",
    "\n",
    "print(length)"
   ]
  }
 ],
 "metadata": {
  "kernelspec": {
   "display_name": "Python 3",
   "language": "python",
   "name": "python3"
  },
  "language_info": {
   "codemirror_mode": {
    "name": "ipython",
    "version": 3
   },
   "file_extension": ".py",
   "mimetype": "text/x-python",
   "name": "python",
   "nbconvert_exporter": "python",
   "pygments_lexer": "ipython3",
   "version": "3.6.9"
  }
 },
 "nbformat": 4,
 "nbformat_minor": 2
}
